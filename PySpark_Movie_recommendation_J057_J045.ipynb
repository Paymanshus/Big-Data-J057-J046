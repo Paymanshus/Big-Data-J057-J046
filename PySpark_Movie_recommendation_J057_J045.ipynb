{
  "nbformat": 4,
  "nbformat_minor": 0,
  "metadata": {
    "colab": {
      "name": "PySpark_Movie_recommendation J057 J045.ipynb",
      "provenance": [],
      "toc_visible": true
    },
    "kernelspec": {
      "name": "python3",
      "display_name": "Python 3"
    },
    "language_info": {
      "name": "python"
    }
  },
  "cells": [
    {
      "cell_type": "markdown",
      "metadata": {
        "id": "R9Cmg-2B_J8j"
      },
      "source": [
        "## Advait Thergaonkar J057\n",
        "## Paymanshu Sharma J045"
      ]
    },
    {
      "cell_type": "markdown",
      "metadata": {
        "id": "eUkKzn-yM6nl"
      },
      "source": [
        "##  PySpark setup"
      ]
    },
    {
      "cell_type": "code",
      "metadata": {
        "id": "caYh86ewKs6F"
      },
      "source": [
        "!apt-get install openjdk-8-jdk-headless -qq > /dev/nul\n",
        "!wget -q https://mirrors.estointernet.in/apache/spark/spark-3.1.1/spark-3.1.1-bin-hadoop2.7.tgz\n",
        "!tar xf spark-3.1.1-bin-hadoop2.7.tgz\n",
        "!pip install -q findspark\n"
      ],
      "execution_count": 1,
      "outputs": []
    },
    {
      "cell_type": "code",
      "metadata": {
        "colab": {
          "base_uri": "https://localhost:8080/",
          "height": 37
        },
        "id": "9dAAv3IQKaAL",
        "outputId": "d4fed6cd-9dca-4822-c819-dd635b9ff48e"
      },
      "source": [
        "import os\n",
        "os.environ[\"JAVA_HOME\"] = \"/usr/lib/jvm/java-8-openjdk-amd64\"\n",
        "os.environ[\"SPARK_HOME\"] = \"/content/spark-3.1.1-bin-hadoop2.7\"\n",
        "import findspark\n",
        "findspark.init()\n",
        "findspark.find()"
      ],
      "execution_count": 2,
      "outputs": [
        {
          "output_type": "execute_result",
          "data": {
            "application/vnd.google.colaboratory.intrinsic+json": {
              "type": "string"
            },
            "text/plain": [
              "'/content/spark-3.1.1-bin-hadoop2.7'"
            ]
          },
          "metadata": {
            "tags": []
          },
          "execution_count": 2
        }
      ]
    },
    {
      "cell_type": "markdown",
      "metadata": {
        "id": "xepHpYGqNBej"
      },
      "source": [
        "## Download movie lens data:  \n",
        "https://www.kaggle.com/grouplens/movielens-20m-dataset?select=movie.csv"
      ]
    },
    {
      "cell_type": "code",
      "metadata": {
        "id": "UsVbEztyM3kP"
      },
      "source": [
        "! pip install -q kaggle"
      ],
      "execution_count": 3,
      "outputs": []
    },
    {
      "cell_type": "code",
      "metadata": {
        "colab": {
          "resources": {
            "http://localhost:8080/nbextensions/google.colab/files.js": {
              "data": "Ly8gQ29weXJpZ2h0IDIwMTcgR29vZ2xlIExMQwovLwovLyBMaWNlbnNlZCB1bmRlciB0aGUgQXBhY2hlIExpY2Vuc2UsIFZlcnNpb24gMi4wICh0aGUgIkxpY2Vuc2UiKTsKLy8geW91IG1heSBub3QgdXNlIHRoaXMgZmlsZSBleGNlcHQgaW4gY29tcGxpYW5jZSB3aXRoIHRoZSBMaWNlbnNlLgovLyBZb3UgbWF5IG9idGFpbiBhIGNvcHkgb2YgdGhlIExpY2Vuc2UgYXQKLy8KLy8gICAgICBodHRwOi8vd3d3LmFwYWNoZS5vcmcvbGljZW5zZXMvTElDRU5TRS0yLjAKLy8KLy8gVW5sZXNzIHJlcXVpcmVkIGJ5IGFwcGxpY2FibGUgbGF3IG9yIGFncmVlZCB0byBpbiB3cml0aW5nLCBzb2Z0d2FyZQovLyBkaXN0cmlidXRlZCB1bmRlciB0aGUgTGljZW5zZSBpcyBkaXN0cmlidXRlZCBvbiBhbiAiQVMgSVMiIEJBU0lTLAovLyBXSVRIT1VUIFdBUlJBTlRJRVMgT1IgQ09ORElUSU9OUyBPRiBBTlkgS0lORCwgZWl0aGVyIGV4cHJlc3Mgb3IgaW1wbGllZC4KLy8gU2VlIHRoZSBMaWNlbnNlIGZvciB0aGUgc3BlY2lmaWMgbGFuZ3VhZ2UgZ292ZXJuaW5nIHBlcm1pc3Npb25zIGFuZAovLyBsaW1pdGF0aW9ucyB1bmRlciB0aGUgTGljZW5zZS4KCi8qKgogKiBAZmlsZW92ZXJ2aWV3IEhlbHBlcnMgZm9yIGdvb2dsZS5jb2xhYiBQeXRob24gbW9kdWxlLgogKi8KKGZ1bmN0aW9uKHNjb3BlKSB7CmZ1bmN0aW9uIHNwYW4odGV4dCwgc3R5bGVBdHRyaWJ1dGVzID0ge30pIHsKICBjb25zdCBlbGVtZW50ID0gZG9jdW1lbnQuY3JlYXRlRWxlbWVudCgnc3BhbicpOwogIGVsZW1lbnQudGV4dENvbnRlbnQgPSB0ZXh0OwogIGZvciAoY29uc3Qga2V5IG9mIE9iamVjdC5rZXlzKHN0eWxlQXR0cmlidXRlcykpIHsKICAgIGVsZW1lbnQuc3R5bGVba2V5XSA9IHN0eWxlQXR0cmlidXRlc1trZXldOwogIH0KICByZXR1cm4gZWxlbWVudDsKfQoKLy8gTWF4IG51bWJlciBvZiBieXRlcyB3aGljaCB3aWxsIGJlIHVwbG9hZGVkIGF0IGEgdGltZS4KY29uc3QgTUFYX1BBWUxPQURfU0laRSA9IDEwMCAqIDEwMjQ7CgpmdW5jdGlvbiBfdXBsb2FkRmlsZXMoaW5wdXRJZCwgb3V0cHV0SWQpIHsKICBjb25zdCBzdGVwcyA9IHVwbG9hZEZpbGVzU3RlcChpbnB1dElkLCBvdXRwdXRJZCk7CiAgY29uc3Qgb3V0cHV0RWxlbWVudCA9IGRvY3VtZW50LmdldEVsZW1lbnRCeUlkKG91dHB1dElkKTsKICAvLyBDYWNoZSBzdGVwcyBvbiB0aGUgb3V0cHV0RWxlbWVudCB0byBtYWtlIGl0IGF2YWlsYWJsZSBmb3IgdGhlIG5leHQgY2FsbAogIC8vIHRvIHVwbG9hZEZpbGVzQ29udGludWUgZnJvbSBQeXRob24uCiAgb3V0cHV0RWxlbWVudC5zdGVwcyA9IHN0ZXBzOwoKICByZXR1cm4gX3VwbG9hZEZpbGVzQ29udGludWUob3V0cHV0SWQpOwp9CgovLyBUaGlzIGlzIHJvdWdobHkgYW4gYXN5bmMgZ2VuZXJhdG9yIChub3Qgc3VwcG9ydGVkIGluIHRoZSBicm93c2VyIHlldCksCi8vIHdoZXJlIHRoZXJlIGFyZSBtdWx0aXBsZSBhc3luY2hyb25vdXMgc3RlcHMgYW5kIHRoZSBQeXRob24gc2lkZSBpcyBnb2luZwovLyB0byBwb2xsIGZvciBjb21wbGV0aW9uIG9mIGVhY2ggc3RlcC4KLy8gVGhpcyB1c2VzIGEgUHJvbWlzZSB0byBibG9jayB0aGUgcHl0aG9uIHNpZGUgb24gY29tcGxldGlvbiBvZiBlYWNoIHN0ZXAsCi8vIHRoZW4gcGFzc2VzIHRoZSByZXN1bHQgb2YgdGhlIHByZXZpb3VzIHN0ZXAgYXMgdGhlIGlucHV0IHRvIHRoZSBuZXh0IHN0ZXAuCmZ1bmN0aW9uIF91cGxvYWRGaWxlc0NvbnRpbnVlKG91dHB1dElkKSB7CiAgY29uc3Qgb3V0cHV0RWxlbWVudCA9IGRvY3VtZW50LmdldEVsZW1lbnRCeUlkKG91dHB1dElkKTsKICBjb25zdCBzdGVwcyA9IG91dHB1dEVsZW1lbnQuc3RlcHM7CgogIGNvbnN0IG5leHQgPSBzdGVwcy5uZXh0KG91dHB1dEVsZW1lbnQubGFzdFByb21pc2VWYWx1ZSk7CiAgcmV0dXJuIFByb21pc2UucmVzb2x2ZShuZXh0LnZhbHVlLnByb21pc2UpLnRoZW4oKHZhbHVlKSA9PiB7CiAgICAvLyBDYWNoZSB0aGUgbGFzdCBwcm9taXNlIHZhbHVlIHRvIG1ha2UgaXQgYXZhaWxhYmxlIHRvIHRoZSBuZXh0CiAgICAvLyBzdGVwIG9mIHRoZSBnZW5lcmF0b3IuCiAgICBvdXRwdXRFbGVtZW50Lmxhc3RQcm9taXNlVmFsdWUgPSB2YWx1ZTsKICAgIHJldHVybiBuZXh0LnZhbHVlLnJlc3BvbnNlOwogIH0pOwp9CgovKioKICogR2VuZXJhdG9yIGZ1bmN0aW9uIHdoaWNoIGlzIGNhbGxlZCBiZXR3ZWVuIGVhY2ggYXN5bmMgc3RlcCBvZiB0aGUgdXBsb2FkCiAqIHByb2Nlc3MuCiAqIEBwYXJhbSB7c3RyaW5nfSBpbnB1dElkIEVsZW1lbnQgSUQgb2YgdGhlIGlucHV0IGZpbGUgcGlja2VyIGVsZW1lbnQuCiAqIEBwYXJhbSB7c3RyaW5nfSBvdXRwdXRJZCBFbGVtZW50IElEIG9mIHRoZSBvdXRwdXQgZGlzcGxheS4KICogQHJldHVybiB7IUl0ZXJhYmxlPCFPYmplY3Q+fSBJdGVyYWJsZSBvZiBuZXh0IHN0ZXBzLgogKi8KZnVuY3Rpb24qIHVwbG9hZEZpbGVzU3RlcChpbnB1dElkLCBvdXRwdXRJZCkgewogIGNvbnN0IGlucHV0RWxlbWVudCA9IGRvY3VtZW50LmdldEVsZW1lbnRCeUlkKGlucHV0SWQpOwogIGlucHV0RWxlbWVudC5kaXNhYmxlZCA9IGZhbHNlOwoKICBjb25zdCBvdXRwdXRFbGVtZW50ID0gZG9jdW1lbnQuZ2V0RWxlbWVudEJ5SWQob3V0cHV0SWQpOwogIG91dHB1dEVsZW1lbnQuaW5uZXJIVE1MID0gJyc7CgogIGNvbnN0IHBpY2tlZFByb21pc2UgPSBuZXcgUHJvbWlzZSgocmVzb2x2ZSkgPT4gewogICAgaW5wdXRFbGVtZW50LmFkZEV2ZW50TGlzdGVuZXIoJ2NoYW5nZScsIChlKSA9PiB7CiAgICAgIHJlc29sdmUoZS50YXJnZXQuZmlsZXMpOwogICAgfSk7CiAgfSk7CgogIGNvbnN0IGNhbmNlbCA9IGRvY3VtZW50LmNyZWF0ZUVsZW1lbnQoJ2J1dHRvbicpOwogIGlucHV0RWxlbWVudC5wYXJlbnRFbGVtZW50LmFwcGVuZENoaWxkKGNhbmNlbCk7CiAgY2FuY2VsLnRleHRDb250ZW50ID0gJ0NhbmNlbCB1cGxvYWQnOwogIGNvbnN0IGNhbmNlbFByb21pc2UgPSBuZXcgUHJvbWlzZSgocmVzb2x2ZSkgPT4gewogICAgY2FuY2VsLm9uY2xpY2sgPSAoKSA9PiB7CiAgICAgIHJlc29sdmUobnVsbCk7CiAgICB9OwogIH0pOwoKICAvLyBXYWl0IGZvciB0aGUgdXNlciB0byBwaWNrIHRoZSBmaWxlcy4KICBjb25zdCBmaWxlcyA9IHlpZWxkIHsKICAgIHByb21pc2U6IFByb21pc2UucmFjZShbcGlja2VkUHJvbWlzZSwgY2FuY2VsUHJvbWlzZV0pLAogICAgcmVzcG9uc2U6IHsKICAgICAgYWN0aW9uOiAnc3RhcnRpbmcnLAogICAgfQogIH07CgogIGNhbmNlbC5yZW1vdmUoKTsKCiAgLy8gRGlzYWJsZSB0aGUgaW5wdXQgZWxlbWVudCBzaW5jZSBmdXJ0aGVyIHBpY2tzIGFyZSBub3QgYWxsb3dlZC4KICBpbnB1dEVsZW1lbnQuZGlzYWJsZWQgPSB0cnVlOwoKICBpZiAoIWZpbGVzKSB7CiAgICByZXR1cm4gewogICAgICByZXNwb25zZTogewogICAgICAgIGFjdGlvbjogJ2NvbXBsZXRlJywKICAgICAgfQogICAgfTsKICB9CgogIGZvciAoY29uc3QgZmlsZSBvZiBmaWxlcykgewogICAgY29uc3QgbGkgPSBkb2N1bWVudC5jcmVhdGVFbGVtZW50KCdsaScpOwogICAgbGkuYXBwZW5kKHNwYW4oZmlsZS5uYW1lLCB7Zm9udFdlaWdodDogJ2JvbGQnfSkpOwogICAgbGkuYXBwZW5kKHNwYW4oCiAgICAgICAgYCgke2ZpbGUudHlwZSB8fCAnbi9hJ30pIC0gJHtmaWxlLnNpemV9IGJ5dGVzLCBgICsKICAgICAgICBgbGFzdCBtb2RpZmllZDogJHsKICAgICAgICAgICAgZmlsZS5sYXN0TW9kaWZpZWREYXRlID8gZmlsZS5sYXN0TW9kaWZpZWREYXRlLnRvTG9jYWxlRGF0ZVN0cmluZygpIDoKICAgICAgICAgICAgICAgICAgICAgICAgICAgICAgICAgICAgJ24vYSd9IC0gYCkpOwogICAgY29uc3QgcGVyY2VudCA9IHNwYW4oJzAlIGRvbmUnKTsKICAgIGxpLmFwcGVuZENoaWxkKHBlcmNlbnQpOwoKICAgIG91dHB1dEVsZW1lbnQuYXBwZW5kQ2hpbGQobGkpOwoKICAgIGNvbnN0IGZpbGVEYXRhUHJvbWlzZSA9IG5ldyBQcm9taXNlKChyZXNvbHZlKSA9PiB7CiAgICAgIGNvbnN0IHJlYWRlciA9IG5ldyBGaWxlUmVhZGVyKCk7CiAgICAgIHJlYWRlci5vbmxvYWQgPSAoZSkgPT4gewogICAgICAgIHJlc29sdmUoZS50YXJnZXQucmVzdWx0KTsKICAgICAgfTsKICAgICAgcmVhZGVyLnJlYWRBc0FycmF5QnVmZmVyKGZpbGUpOwogICAgfSk7CiAgICAvLyBXYWl0IGZvciB0aGUgZGF0YSB0byBiZSByZWFkeS4KICAgIGxldCBmaWxlRGF0YSA9IHlpZWxkIHsKICAgICAgcHJvbWlzZTogZmlsZURhdGFQcm9taXNlLAogICAgICByZXNwb25zZTogewogICAgICAgIGFjdGlvbjogJ2NvbnRpbnVlJywKICAgICAgfQogICAgfTsKCiAgICAvLyBVc2UgYSBjaHVua2VkIHNlbmRpbmcgdG8gYXZvaWQgbWVzc2FnZSBzaXplIGxpbWl0cy4gU2VlIGIvNjIxMTU2NjAuCiAgICBsZXQgcG9zaXRpb24gPSAwOwogICAgd2hpbGUgKHBvc2l0aW9uIDwgZmlsZURhdGEuYnl0ZUxlbmd0aCkgewogICAgICBjb25zdCBsZW5ndGggPSBNYXRoLm1pbihmaWxlRGF0YS5ieXRlTGVuZ3RoIC0gcG9zaXRpb24sIE1BWF9QQVlMT0FEX1NJWkUpOwogICAgICBjb25zdCBjaHVuayA9IG5ldyBVaW50OEFycmF5KGZpbGVEYXRhLCBwb3NpdGlvbiwgbGVuZ3RoKTsKICAgICAgcG9zaXRpb24gKz0gbGVuZ3RoOwoKICAgICAgY29uc3QgYmFzZTY0ID0gYnRvYShTdHJpbmcuZnJvbUNoYXJDb2RlLmFwcGx5KG51bGwsIGNodW5rKSk7CiAgICAgIHlpZWxkIHsKICAgICAgICByZXNwb25zZTogewogICAgICAgICAgYWN0aW9uOiAnYXBwZW5kJywKICAgICAgICAgIGZpbGU6IGZpbGUubmFtZSwKICAgICAgICAgIGRhdGE6IGJhc2U2NCwKICAgICAgICB9LAogICAgICB9OwogICAgICBwZXJjZW50LnRleHRDb250ZW50ID0KICAgICAgICAgIGAke01hdGgucm91bmQoKHBvc2l0aW9uIC8gZmlsZURhdGEuYnl0ZUxlbmd0aCkgKiAxMDApfSUgZG9uZWA7CiAgICB9CiAgfQoKICAvLyBBbGwgZG9uZS4KICB5aWVsZCB7CiAgICByZXNwb25zZTogewogICAgICBhY3Rpb246ICdjb21wbGV0ZScsCiAgICB9CiAgfTsKfQoKc2NvcGUuZ29vZ2xlID0gc2NvcGUuZ29vZ2xlIHx8IHt9OwpzY29wZS5nb29nbGUuY29sYWIgPSBzY29wZS5nb29nbGUuY29sYWIgfHwge307CnNjb3BlLmdvb2dsZS5jb2xhYi5fZmlsZXMgPSB7CiAgX3VwbG9hZEZpbGVzLAogIF91cGxvYWRGaWxlc0NvbnRpbnVlLAp9Owp9KShzZWxmKTsK",
              "ok": true,
              "headers": [
                [
                  "content-type",
                  "application/javascript"
                ]
              ],
              "status": 200,
              "status_text": ""
            }
          },
          "base_uri": "https://localhost:8080/",
          "height": 110
        },
        "id": "DO8HpAmBNegk",
        "outputId": "1c4a2d78-adfd-47b9-b804-8dcb09418442"
      },
      "source": [
        "from google.colab import files\n",
        "files.upload()"
      ],
      "execution_count": 4,
      "outputs": [
        {
          "output_type": "display_data",
          "data": {
            "text/html": [
              "\n",
              "     <input type=\"file\" id=\"files-19d1e9fc-5227-4466-93e7-0c9fcfba5935\" name=\"files[]\" multiple disabled\n",
              "        style=\"border:none\" />\n",
              "     <output id=\"result-19d1e9fc-5227-4466-93e7-0c9fcfba5935\">\n",
              "      Upload widget is only available when the cell has been executed in the\n",
              "      current browser session. Please rerun this cell to enable.\n",
              "      </output>\n",
              "      <script src=\"/nbextensions/google.colab/files.js\"></script> "
            ],
            "text/plain": [
              "<IPython.core.display.HTML object>"
            ]
          },
          "metadata": {
            "tags": []
          }
        },
        {
          "output_type": "stream",
          "text": [
            "Saving requirements.txt to requirements.txt\n"
          ],
          "name": "stdout"
        },
        {
          "output_type": "execute_result",
          "data": {
            "text/plain": [
              "{'requirements.txt': b'{\\\\rtf1\\\\ansi\\\\ansicpg1252\\\\cocoartf2578\\n\\\\cocoatextscaling0\\\\cocoaplatform0{\\\\fonttbl\\\\f0\\\\fmodern\\\\fcharset0 Courier;}\\n{\\\\colortbl;\\\\red255\\\\green255\\\\blue255;\\\\red0\\\\green0\\\\blue0;}\\n{\\\\*\\\\expandedcolortbl;;\\\\cssrgb\\\\c0\\\\c0\\\\c0;}\\n\\\\paperw11900\\\\paperh16840\\\\margl1440\\\\margr1440\\\\vieww11520\\\\viewh8400\\\\viewkind0\\n\\\\deftab720\\n\\\\pard\\\\pardeftab720\\\\partightenfactor0\\n\\n\\\\f0\\\\fs26 \\\\cf0 \\\\expnd0\\\\expndtw0\\\\kerning0\\npandas\\\\\\nstreamlit\\\\\\nnumpy\\\\\\nKeras\\\\\\nplotly\\\\\\nscikit-learn\\\\\\ntensorflow}'}"
            ]
          },
          "metadata": {
            "tags": []
          },
          "execution_count": 4
        }
      ]
    },
    {
      "cell_type": "code",
      "metadata": {
        "colab": {
          "base_uri": "https://localhost:8080/"
        },
        "id": "U4uJPduqNqXk",
        "outputId": "d52a78b4-4dab-44db-dbde-4c56d9ceab21"
      },
      "source": [
        "! mkdir ~/.kaggle\n",
        "! cp kaggle.json ~/.kaggle/\n",
        "! chmod 600 ~/.kaggle/kaggle.json\n",
        "! kaggle datasets list"
      ],
      "execution_count": 5,
      "outputs": [
        {
          "output_type": "stream",
          "text": [
            "Warning: Looks like you're using an outdated API Version, please consider updating (server 1.5.12 / client 1.5.4)\n",
            "ref                                                         title                                              size  lastUpdated          downloadCount  \n",
            "----------------------------------------------------------  ------------------------------------------------  -----  -------------------  -------------  \n",
            "gpreda/reddit-vaccine-myths                                 Reddit Vaccine Myths                              223KB  2021-04-09 08:39:14           2344  \n",
            "crowww/a-large-scale-fish-dataset                           A Large Scale Fish Dataset                          3GB  2021-02-17 16:10:44           1361  \n",
            "dhruvildave/wikibooks-dataset                               Wikibooks Dataset                                   1GB  2021-02-18 10:08:27           1033  \n",
            "promptcloud/careerbuilder-job-listing-2020                  Careerbuilder Job Listing 2020                     42MB  2021-03-05 06:59:52            226  \n",
            "imsparsh/musicnet-dataset                                   MusicNet Dataset                                   22GB  2021-02-18 14:12:19            486  \n",
            "alsgroup/end-als                                            End ALS Kaggle Challenge                           12GB  2021-04-08 12:16:37            362  \n",
            "mathurinache/twitter-edge-nodes                             Twitter Edge Nodes                                342MB  2021-03-08 06:43:04            120  \n",
            "simiotic/github-code-snippets                               GitHub Code Snippets                                7GB  2021-03-03 11:34:39             51  \n",
            "nickuzmenkov/nih-chest-xrays-tfrecords                      NIH Chest X-rays TFRecords                         11GB  2021-03-09 04:49:23            217  \n",
            "fatiimaezzahra/famous-iconic-women                          Famous Iconic Women                               838MB  2021-02-28 14:56:00            333  \n",
            "mathurinache/the-lj-speech-dataset                          The LJ Speech Dataset                               3GB  2021-02-15 09:19:54             82  \n",
            "coloradokb/dandelionimages                                  DandelionImages                                     4GB  2021-02-19 20:03:47            144  \n",
            "nickuzmenkov/ranzcr-clip-kfold-tfrecords                    RANZCR CLiP KFold TFRecords                         2GB  2021-02-21 13:29:51             49  \n",
            "landrykezebou/lvzhdr-tone-mapping-benchmark-dataset-tmonet  LVZ-HDR Tone Mapping Benchmark Dataset (TMO-Net)   24GB  2021-03-01 05:03:40             40  \n",
            "imsparsh/accentdb-core-extended                             AccentDB - Core & Extended                          6GB  2021-02-17 14:22:54             34  \n",
            "stuartjames/lights                                          LightS: Light Specularity Dataset                  18GB  2021-02-18 14:32:26             28  \n",
            "shivamb/netflix-shows                                       Netflix Movies and TV Shows                         1MB  2021-01-18 16:20:26         131949  \n",
            "datasnaek/youtube-new                                       Trending YouTube Video Statistics                 201MB  2019-06-03 00:56:47         134388  \n",
            "zynicide/wine-reviews                                       Wine Reviews                                       51MB  2017-11-27 17:08:04         132704  \n",
            "google/tinyquickdraw                                        QuickDraw Sketches                                 11GB  2018-04-18 19:38:04           2966  \n"
          ],
          "name": "stdout"
        }
      ]
    },
    {
      "cell_type": "code",
      "metadata": {
        "colab": {
          "base_uri": "https://localhost:8080/"
        },
        "id": "oCe5nOvYN-GT",
        "outputId": "a9f0c717-400c-48c6-ae07-4a2a135653bd"
      },
      "source": [
        "!kaggle datasets download -d grouplens/movielens-20m-dataset"
      ],
      "execution_count": 6,
      "outputs": [
        {
          "output_type": "stream",
          "text": [
            "Downloading movielens-20m-dataset.zip to /content\n",
            " 91% 178M/195M [00:01<00:00, 91.2MB/s]\n",
            "100% 195M/195M [00:01<00:00, 109MB/s] \n"
          ],
          "name": "stdout"
        }
      ]
    },
    {
      "cell_type": "code",
      "metadata": {
        "colab": {
          "base_uri": "https://localhost:8080/"
        },
        "id": "cL3-VzNlOZXC",
        "outputId": "fe6c5498-9eef-4ada-ca3e-e8562b49c962"
      },
      "source": [
        "!unzip /content/movielens-20m-dataset.zip"
      ],
      "execution_count": 7,
      "outputs": [
        {
          "output_type": "stream",
          "text": [
            "Archive:  /content/movielens-20m-dataset.zip\n",
            "  inflating: genome_scores.csv       \n",
            "  inflating: genome_tags.csv         \n",
            "  inflating: link.csv                \n",
            "  inflating: movie.csv               \n",
            "  inflating: rating.csv              \n",
            "  inflating: tag.csv                 \n"
          ],
          "name": "stdout"
        }
      ]
    },
    {
      "cell_type": "markdown",
      "metadata": {
        "id": "gvcmCf_SOycr"
      },
      "source": [
        "# Movie Recommendation using PySpark"
      ]
    },
    {
      "cell_type": "code",
      "metadata": {
        "id": "moY9zIJqPl-E"
      },
      "source": [
        "import os\n",
        "import sys\n",
        "os.environ['PYSPARK_PYTHON'] = sys.executable\n",
        "os.environ['PYSPARK_DRIVER_PYTHON'] = sys.executable"
      ],
      "execution_count": 8,
      "outputs": []
    },
    {
      "cell_type": "code",
      "metadata": {
        "id": "baKJ3dqXSFHd"
      },
      "source": [
        "from pyspark.sql.functions import col"
      ],
      "execution_count": 9,
      "outputs": []
    },
    {
      "cell_type": "code",
      "metadata": {
        "id": "oQnjhrJVE-Fh"
      },
      "source": [
        "from pyspark.sql.functions import lit"
      ],
      "execution_count": 10,
      "outputs": []
    },
    {
      "cell_type": "code",
      "metadata": {
        "id": "SRNw2VhUOxpS"
      },
      "source": [
        "def get_mat_sparsity(ratings):\n",
        "    # Count the total number of ratings in the dataset\n",
        "    count_nonzero = ratings.select(\"rating\").count()\n",
        "\n",
        "    # Count the number of distinct userIds and distinct movieIds\n",
        "    total_elements = ratings.select(\"userId\").distinct().count() * ratings.select(\"movieId\").distinct().count()\n",
        "\n",
        "    # Divide the numerator by the denominator\n",
        "    sparsity = (1.0 - (count_nonzero *1.0)/total_elements)*100\n",
        "    print(\"The ratings dataframe is \", \"%.2f\" % sparsity + \"% sparse.\")"
      ],
      "execution_count": 11,
      "outputs": []
    },
    {
      "cell_type": "code",
      "metadata": {
        "colab": {
          "base_uri": "https://localhost:8080/"
        },
        "id": "dYqIvUMPOrar",
        "outputId": "4f3a7cd9-b501-484d-dcf7-cfe28cbb8989"
      },
      "source": [
        "from pyspark.sql import SparkSession\n",
        "spark = SparkSession.builder.appName('Recommendations').getOrCreate()\n",
        "movies = spark.read.csv(\"movie.csv\",header=True)\n",
        "ratings = spark.read.csv(\"rating.csv\",header=True)\n",
        "ratings.show()"
      ],
      "execution_count": 12,
      "outputs": [
        {
          "output_type": "stream",
          "text": [
            "+------+-------+------+-------------------+\n",
            "|userId|movieId|rating|          timestamp|\n",
            "+------+-------+------+-------------------+\n",
            "|     1|      2|   3.5|2005-04-02 23:53:47|\n",
            "|     1|     29|   3.5|2005-04-02 23:31:16|\n",
            "|     1|     32|   3.5|2005-04-02 23:33:39|\n",
            "|     1|     47|   3.5|2005-04-02 23:32:07|\n",
            "|     1|     50|   3.5|2005-04-02 23:29:40|\n",
            "|     1|    112|   3.5|2004-09-10 03:09:00|\n",
            "|     1|    151|     4|2004-09-10 03:08:54|\n",
            "|     1|    223|     4|2005-04-02 23:46:13|\n",
            "|     1|    253|     4|2005-04-02 23:35:40|\n",
            "|     1|    260|     4|2005-04-02 23:33:46|\n",
            "|     1|    293|     4|2005-04-02 23:31:43|\n",
            "|     1|    296|     4|2005-04-02 23:32:47|\n",
            "|     1|    318|     4|2005-04-02 23:33:18|\n",
            "|     1|    337|   3.5|2004-09-10 03:08:29|\n",
            "|     1|    367|   3.5|2005-04-02 23:53:00|\n",
            "|     1|    541|     4|2005-04-02 23:30:03|\n",
            "|     1|    589|   3.5|2005-04-02 23:45:57|\n",
            "|     1|    593|   3.5|2005-04-02 23:31:01|\n",
            "|     1|    653|     3|2004-09-10 03:08:11|\n",
            "|     1|    919|   3.5|2004-09-10 03:07:01|\n",
            "+------+-------+------+-------------------+\n",
            "only showing top 20 rows\n",
            "\n"
          ],
          "name": "stdout"
        }
      ]
    },
    {
      "cell_type": "code",
      "metadata": {
        "colab": {
          "base_uri": "https://localhost:8080/"
        },
        "id": "0A1XgcshPA70",
        "outputId": "bae36840-ca8c-40d7-8e9c-370d3ac415ae"
      },
      "source": [
        "movies.show()"
      ],
      "execution_count": 13,
      "outputs": [
        {
          "output_type": "stream",
          "text": [
            "+-------+--------------------+--------------------+\n",
            "|movieId|               title|              genres|\n",
            "+-------+--------------------+--------------------+\n",
            "|      1|    Toy Story (1995)|Adventure|Animati...|\n",
            "|      2|      Jumanji (1995)|Adventure|Childre...|\n",
            "|      3|Grumpier Old Men ...|      Comedy|Romance|\n",
            "|      4|Waiting to Exhale...|Comedy|Drama|Romance|\n",
            "|      5|Father of the Bri...|              Comedy|\n",
            "|      6|         Heat (1995)|Action|Crime|Thri...|\n",
            "|      7|      Sabrina (1995)|      Comedy|Romance|\n",
            "|      8| Tom and Huck (1995)|  Adventure|Children|\n",
            "|      9| Sudden Death (1995)|              Action|\n",
            "|     10|    GoldenEye (1995)|Action|Adventure|...|\n",
            "|     11|American Presiden...|Comedy|Drama|Romance|\n",
            "|     12|Dracula: Dead and...|       Comedy|Horror|\n",
            "|     13|        Balto (1995)|Adventure|Animati...|\n",
            "|     14|        Nixon (1995)|               Drama|\n",
            "|     15|Cutthroat Island ...|Action|Adventure|...|\n",
            "|     16|       Casino (1995)|         Crime|Drama|\n",
            "|     17|Sense and Sensibi...|       Drama|Romance|\n",
            "|     18|   Four Rooms (1995)|              Comedy|\n",
            "|     19|Ace Ventura: When...|              Comedy|\n",
            "|     20|  Money Train (1995)|Action|Comedy|Cri...|\n",
            "+-------+--------------------+--------------------+\n",
            "only showing top 20 rows\n",
            "\n"
          ],
          "name": "stdout"
        }
      ]
    },
    {
      "cell_type": "code",
      "metadata": {
        "colab": {
          "base_uri": "https://localhost:8080/"
        },
        "id": "veivI1W-RLk0",
        "outputId": "8743607b-e756-4b01-826c-5f1dcbdf9270"
      },
      "source": [
        "ratings = ratings.\\\n",
        "          withColumn('userId', col('userId').cast('integer')).\\\n",
        "          withColumn('movieId', col('MovieId').cast('integer')).\\\n",
        "          withColumn('rating', col('rating').cast('float')).\\\n",
        "          drop('timestamp')\n",
        "\n",
        "ratings.show()"
      ],
      "execution_count": 14,
      "outputs": [
        {
          "output_type": "stream",
          "text": [
            "+------+-------+------+\n",
            "|userId|movieId|rating|\n",
            "+------+-------+------+\n",
            "|     1|      2|   3.5|\n",
            "|     1|     29|   3.5|\n",
            "|     1|     32|   3.5|\n",
            "|     1|     47|   3.5|\n",
            "|     1|     50|   3.5|\n",
            "|     1|    112|   3.5|\n",
            "|     1|    151|   4.0|\n",
            "|     1|    223|   4.0|\n",
            "|     1|    253|   4.0|\n",
            "|     1|    260|   4.0|\n",
            "|     1|    293|   4.0|\n",
            "|     1|    296|   4.0|\n",
            "|     1|    318|   4.0|\n",
            "|     1|    337|   3.5|\n",
            "|     1|    367|   3.5|\n",
            "|     1|    541|   4.0|\n",
            "|     1|    589|   3.5|\n",
            "|     1|    593|   3.5|\n",
            "|     1|    653|   3.0|\n",
            "|     1|    919|   3.5|\n",
            "+------+-------+------+\n",
            "only showing top 20 rows\n",
            "\n"
          ],
          "name": "stdout"
        }
      ]
    },
    {
      "cell_type": "code",
      "metadata": {
        "id": "kByKu8U9P3tE"
      },
      "source": [
        "movie_ratings = ratings.join(movies, ['movieId'], 'left')"
      ],
      "execution_count": 15,
      "outputs": []
    },
    {
      "cell_type": "code",
      "metadata": {
        "colab": {
          "base_uri": "https://localhost:8080/"
        },
        "id": "i_7WLRKGAMFt",
        "outputId": "4cee8e78-f205-4b4f-e1dd-f09f412fdba6"
      },
      "source": [
        "get_mat_sparsity(ratings)"
      ],
      "execution_count": 16,
      "outputs": [
        {
          "output_type": "stream",
          "text": [
            "The ratings dataframe is  99.46% sparse.\n"
          ],
          "name": "stdout"
        }
      ]
    },
    {
      "cell_type": "code",
      "metadata": {
        "id": "Mn5H78i3ActC"
      },
      "source": [
        "(train, test) = ratings.randomSplit([0.8, 0.2], seed = 1234)"
      ],
      "execution_count": 17,
      "outputs": []
    },
    {
      "cell_type": "code",
      "metadata": {
        "id": "hxh3t9DZA2j2"
      },
      "source": [
        "# def get_binary_data(ratings):\n",
        "#   ratings = ratings.withColumn('binary', lit(1))\n",
        "#   userIds = ratings.select('userId').distinct()\n",
        "#   movieIds = ratings.select('movieId').distinct()\n",
        "\n",
        "#   user_movie = userIds.crossJoin(movieIds).join(ratings, ['userId', 'movieId'], \"left\")\n",
        "#   user_movie = user_movie.select(['userId', 'movieid', 'binary']).fillna(0)\n",
        "#   return user_movie\n",
        "\n",
        "# user_movie = get_binary_data(ratings)\n",
        "# user_movie"
      ],
      "execution_count": 18,
      "outputs": []
    },
    {
      "cell_type": "code",
      "metadata": {
        "id": "8LVmvWQyGmZv"
      },
      "source": [
        "from pyspark.ml.evaluation import RegressionEvaluator\n",
        "from pyspark.ml.recommendation import ALS\n",
        "from pyspark.ml.tuning import ParamGridBuilder, CrossValidator"
      ],
      "execution_count": 19,
      "outputs": []
    },
    {
      "cell_type": "code",
      "metadata": {
        "id": "GS4W3M67M0Ka"
      },
      "source": [
        "als = ALS(\n",
        "            userCol = 'userId',\n",
        "          itemCol = 'movieId',\n",
        "          ratingCol = 'rating',\n",
        "          nonnegative = True,\n",
        "          implicitPrefs = False,\n",
        "          coldStartStrategy = 'drop'\n",
        "\n",
        ")"
      ],
      "execution_count": 20,
      "outputs": []
    },
    {
      "cell_type": "code",
      "metadata": {
        "colab": {
          "base_uri": "https://localhost:8080/"
        },
        "id": "8p8OMyxfNQ9S",
        "outputId": "416654d0-045d-48eb-a00e-0c77cf965d3a"
      },
      "source": [
        "type(als)"
      ],
      "execution_count": 21,
      "outputs": [
        {
          "output_type": "execute_result",
          "data": {
            "text/plain": [
              "pyspark.ml.recommendation.ALS"
            ]
          },
          "metadata": {
            "tags": []
          },
          "execution_count": 21
        }
      ]
    },
    {
      "cell_type": "code",
      "metadata": {
        "colab": {
          "base_uri": "https://localhost:8080/"
        },
        "id": "NWNW_bHtNn1N",
        "outputId": "92220dce-2157-406b-ca15-021d864ce5cb"
      },
      "source": [
        "param_grid = ParamGridBuilder()\\\n",
        "              .addGrid(als.rank,[50])\\\n",
        "              .addGrid(als.regParam,[.15])\\\n",
        "              .build()\n",
        "\n",
        "\n",
        "\n",
        "evaluator = RegressionEvaluator(metricName='rmse', labelCol='rating', predictionCol= 'prediction')\n",
        "\n",
        "print(f'Total models = {len(param_grid)}')"
      ],
      "execution_count": 22,
      "outputs": [
        {
          "output_type": "stream",
          "text": [
            "Total models = 1\n"
          ],
          "name": "stdout"
        }
      ]
    },
    {
      "cell_type": "code",
      "metadata": {
        "id": "SwNDukEJOX0h"
      },
      "source": [
        "cv = CrossValidator(estimator=als,\n",
        "                    estimatorParamMaps=param_grid,\n",
        "                    evaluator = evaluator,\n",
        "                    numFolds=5)"
      ],
      "execution_count": 23,
      "outputs": []
    },
    {
      "cell_type": "code",
      "metadata": {
        "colab": {
          "base_uri": "https://localhost:8080/"
        },
        "id": "reFzGaSKRCE7",
        "outputId": "86c71e2f-6685-4362-8100-edfa2e442af7"
      },
      "source": [
        "train.dtypes"
      ],
      "execution_count": 24,
      "outputs": [
        {
          "output_type": "execute_result",
          "data": {
            "text/plain": [
              "[('userId', 'int'), ('movieId', 'int'), ('rating', 'float')]"
            ]
          },
          "metadata": {
            "tags": []
          },
          "execution_count": 24
        }
      ]
    },
    {
      "cell_type": "code",
      "metadata": {
        "id": "7TyRrIo-Qv7g"
      },
      "source": [
        "model = cv.fit(train)\n",
        "best_model = model.bestModel"
      ],
      "execution_count": 25,
      "outputs": []
    },
    {
      "cell_type": "code",
      "metadata": {
        "id": "oY03VT_bSgh-",
        "colab": {
          "base_uri": "https://localhost:8080/"
        },
        "outputId": "97a3a036-3c5f-43d3-abf1-1000ba16a242"
      },
      "source": [
        "# Print best_model\n",
        "print(type(best_model))\n",
        "\n",
        "# Complete the code below to extract the ALS model parameters\n",
        "print(\"**Best Model**\")\n",
        "\n",
        "print(\"  Rank:\", best_model._java_obj.parent().getRank())\n",
        "\n",
        "print(\"  MaxIter:\", best_model._java_obj.parent().getMaxIter())\n",
        "print(\"  RegParam:\", best_model._java_obj.parent().getRegParam())"
      ],
      "execution_count": 26,
      "outputs": [
        {
          "output_type": "stream",
          "text": [
            "<class 'pyspark.ml.recommendation.ALSModel'>\n",
            "**Best Model**\n",
            "  Rank: 50\n",
            "  MaxIter: 10\n",
            "  RegParam: 0.15\n"
          ],
          "name": "stdout"
        }
      ]
    },
    {
      "cell_type": "code",
      "metadata": {
        "id": "b8Hz4DS5UMML",
        "colab": {
          "base_uri": "https://localhost:8080/"
        },
        "outputId": "3f3fe79f-8d96-469d-8b99-1de4f1b752b4"
      },
      "source": [
        "test_predictions = best_model.transform(test)\n",
        "RMSE = evaluator.evaluate(test_predictions)\n",
        "print(RMSE)"
      ],
      "execution_count": 27,
      "outputs": [
        {
          "output_type": "stream",
          "text": [
            "0.8402800493901628\n"
          ],
          "name": "stdout"
        }
      ]
    },
    {
      "cell_type": "code",
      "metadata": {
        "id": "2Ak6Uv9qURda",
        "colab": {
          "base_uri": "https://localhost:8080/"
        },
        "outputId": "d6522a51-6e91-4803-8c3e-cdba6621953c"
      },
      "source": [
        "test_predictions.show()"
      ],
      "execution_count": 28,
      "outputs": [
        {
          "output_type": "stream",
          "text": [
            "+------+-------+------+----------+\n",
            "|userId|movieId|rating|prediction|\n",
            "+------+-------+------+----------+\n",
            "|136222|    148|   2.0| 2.4929795|\n",
            "|137949|    148|   4.0| 3.0645564|\n",
            "| 88527|    148|   2.0|  2.402301|\n",
            "| 96427|    148|   3.0| 2.9535213|\n",
            "| 36821|    148|   4.0|  2.921946|\n",
            "| 32882|    148|   3.0| 2.8118188|\n",
            "| 46146|    148|   2.0|  1.907593|\n",
            "| 54726|    148|   5.0| 3.2201116|\n",
            "|  3990|    148|   4.0| 2.3984118|\n",
            "| 80693|    148|   1.0| 2.8253856|\n",
            "| 64843|    148|   3.5| 2.7061887|\n",
            "| 81300|    148|   1.0| 2.8351307|\n",
            "| 48644|    148|   3.0| 2.9798944|\n",
            "| 62028|    148|   3.0|  2.766126|\n",
            "|128653|    148|   2.0| 2.4586143|\n",
            "|  9084|    148|   2.0| 2.9426334|\n",
            "| 70446|    148|   2.0| 2.9711988|\n",
            "| 75359|    148|   3.0| 3.0587022|\n",
            "|110991|    148|   2.5| 2.7512743|\n",
            "| 10434|    148|   3.0|  2.596187|\n",
            "+------+-------+------+----------+\n",
            "only showing top 20 rows\n",
            "\n"
          ],
          "name": "stdout"
        }
      ]
    },
    {
      "cell_type": "code",
      "metadata": {
        "id": "U71yWDhuU1Tp",
        "colab": {
          "base_uri": "https://localhost:8080/"
        },
        "outputId": "9300be6b-93e6-4352-d59c-b86820a10bb3"
      },
      "source": [
        "recommendations = best_model.recommendForAllUsers(5)\n",
        "recommendations.show()"
      ],
      "execution_count": 29,
      "outputs": [
        {
          "output_type": "stream",
          "text": [
            "+------+--------------------+\n",
            "|userId|     recommendations|\n",
            "+------+--------------------+\n",
            "|   148|[{126219, 8.28987...|\n",
            "|   463|[{126219, 7.89162...|\n",
            "|   471|[{126219, 7.24951...|\n",
            "|   496|[{124273, 8.26697...|\n",
            "|   833|[{126219, 6.64261...|\n",
            "|  1088|[{126219, 6.20570...|\n",
            "|  1238|[{124273, 7.05755...|\n",
            "|  1342|[{124273, 8.39409...|\n",
            "|  1580|[{126219, 5.31536...|\n",
            "|  1591|[{126219, 7.73471...|\n",
            "|  1645|[{126219, 7.35516...|\n",
            "|  1829|[{124273, 7.93506...|\n",
            "|  1959|[{124273, 5.74068...|\n",
            "|  2122|[{124273, 5.58908...|\n",
            "|  2142|[{124273, 7.60080...|\n",
            "|  2366|[{126219, 7.80391...|\n",
            "|  2659|[{124273, 7.78474...|\n",
            "|  2866|[{124273, 7.42293...|\n",
            "|  3175|[{126219, 8.05458...|\n",
            "|  3749|[{124273, 7.66274...|\n",
            "+------+--------------------+\n",
            "only showing top 20 rows\n",
            "\n"
          ],
          "name": "stdout"
        }
      ]
    },
    {
      "cell_type": "code",
      "metadata": {
        "id": "y8xSxQRsU1Qj",
        "colab": {
          "base_uri": "https://localhost:8080/"
        },
        "outputId": "63a5e440-c6b8-44ee-a068-b81caca085e7"
      },
      "source": [
        "from pyspark.sql.functions import explode\n",
        "nrecommendations = recommendations\\\n",
        "    .withColumn(\"rec_exp\", explode(\"recommendations\"))\\\n",
        "    .select('userId', col(\"rec_exp.movieId\"), col(\"rec_exp.rating\"))\n",
        "nrecommendations.limit(10).show()"
      ],
      "execution_count": 30,
      "outputs": [
        {
          "output_type": "stream",
          "text": [
            "+------+-------+---------+\n",
            "|userId|movieId|   rating|\n",
            "+------+-------+---------+\n",
            "|   148| 126219|  8.28987|\n",
            "|   148| 124273|6.3887925|\n",
            "|   148| 121029| 5.988211|\n",
            "|   148| 107252|5.3590055|\n",
            "|   148| 114906| 5.339909|\n",
            "|   463| 126219| 7.891626|\n",
            "|   463| 124273| 7.617918|\n",
            "|   463| 121029| 6.482507|\n",
            "|   463| 107252| 5.885555|\n",
            "|   463| 110173| 5.783139|\n",
            "+------+-------+---------+\n",
            "\n"
          ],
          "name": "stdout"
        }
      ]
    },
    {
      "cell_type": "code",
      "metadata": {
        "id": "g0FdVTBxU1NI",
        "colab": {
          "base_uri": "https://localhost:8080/"
        },
        "outputId": "0b5c9d22-58c6-4848-f075-f5c102f9c8c1"
      },
      "source": [
        "nrecommendations.join(movies, on='movieId').filter('userId = 100').show()"
      ],
      "execution_count": 31,
      "outputs": [
        {
          "output_type": "stream",
          "text": [
            "+-------+------+---------+--------------------+-----------------+\n",
            "|movieId|userId|   rating|               title|           genres|\n",
            "+-------+------+---------+--------------------+-----------------+\n",
            "| 124273|   100|6.9261727|Kevin Smith: Too ...|           Comedy|\n",
            "| 126219|   100|5.7663007|    Marihuana (1936)|Documentary|Drama|\n",
            "| 121029|   100| 5.348068|No Distance Left ...|      Documentary|\n",
            "|  81117|   100|5.1303434|Moth, The (Cma) (...|            Drama|\n",
            "| 130347|   100| 4.918535|Bill Hicks: Sane ...|           Comedy|\n",
            "+-------+------+---------+--------------------+-----------------+\n",
            "\n"
          ],
          "name": "stdout"
        }
      ]
    },
    {
      "cell_type": "code",
      "metadata": {
        "id": "0tpL7uYiU1J8",
        "colab": {
          "base_uri": "https://localhost:8080/"
        },
        "outputId": "6a87147d-ba2d-46ef-98dd-94e0a088dc00"
      },
      "source": [
        "ratings.join(movies, on='movieId').filter('userId = 100').sort('rating', ascending=False).limit(10).show()"
      ],
      "execution_count": 32,
      "outputs": [
        {
          "output_type": "stream",
          "text": [
            "+-------+------+------+--------------------+--------------------+\n",
            "|movieId|userId|rating|               title|              genres|\n",
            "+-------+------+------+--------------------+--------------------+\n",
            "|     50|   100|   5.0|Usual Suspects, T...|Crime|Mystery|Thr...|\n",
            "|    293|   100|   5.0|Léon: The Profess...|Action|Crime|Dram...|\n",
            "|    680|   100|   5.0|Alphaville (Alpha...|Drama|Mystery|Rom...|\n",
            "|   1449|   100|   5.0|Waiting for Guffm...|              Comedy|\n",
            "|    235|   100|   4.0|      Ed Wood (1994)|        Comedy|Drama|\n",
            "|    162|   100|   4.0|        Crumb (1994)|         Documentary|\n",
            "|    223|   100|   4.0|       Clerks (1994)|              Comedy|\n",
            "|    260|   100|   4.0|Star Wars: Episod...|Action|Adventure|...|\n",
            "|    265|   100|   4.0|Like Water for Ch...|Drama|Fantasy|Rom...|\n",
            "|    288|   100|   4.0|Natural Born Kill...|Action|Crime|Thri...|\n",
            "+-------+------+------+--------------------+--------------------+\n",
            "\n"
          ],
          "name": "stdout"
        }
      ]
    },
    {
      "cell_type": "markdown",
      "metadata": {
        "id": "dW4mhOikodnC"
      },
      "source": [
        "![Screenshot 2021-04-10 at 12.44.41 PM.png](data:image/png;base64,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)"
      ]
    },
    {
      "cell_type": "markdown",
      "metadata": {
        "id": "lYlDsLpU-TEk"
      },
      "source": [
        "files in local environment"
      ]
    }
  ]
}